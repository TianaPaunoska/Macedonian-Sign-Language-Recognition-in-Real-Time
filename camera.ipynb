{
 "cells": [
  {
   "cell_type": "code",
   "execution_count": 1,
   "metadata": {},
   "outputs": [],
   "source": [
    "import cv2\n",
    "import os\n",
    "import time\n",
    "import numpy as np\n",
    "from keras.models import load_model\n",
    "import tensorflow as tf\n",
    "import os\n",
    "import tensorflow as tf\n",
    "import cv2\n",
    "from keras.models import load_model\n",
    "import time\n",
    "import pandas as pd\n",
    "import numpy as np\n",
    "from sklearn.model_selection import train_test_split\n",
    "import PIL\n",
    "from PIL import Image\n",
    "import os\n",
    "import csv\n",
    "import matplotlib.pyplot as plt\n",
    "import random\n",
    "from keras.utils import np_utils\n",
    "from keras import models\n",
    "from keras import layers\n",
    "from keras.models import load_model\n",
    "from keras.preprocessing.image import ImageDataGenerator"
   ]
  },
  {
   "cell_type": "code",
   "execution_count": 2,
   "metadata": {},
   "outputs": [],
   "source": [
    "labels = {\n",
    "    0:\"A\",1:\"Agol\",2:\"Amin\",3:\"B\",4:\"Beskonechnost\",5:\"C\",6:\"Centar\",7:\"CH\",8:\"Cvekje\",9:\"D\",10:\"Delenje\",\n",
    "    11:\"DJ\",12:\"Dopir\",13:\"DZ\",14:\"E\",15:\"F\",16:\"Fizika\",17:\"G\",18:\"H\",19:\"I\",20:\"Jas\",21:\"Javanje\",22:\"K\",\n",
    "    23:\"Kolache\",24:\"Korona\",25:\"Krst\",26:\"Kukja\",27:\"L\",28:\"LJ\",29:\"M\",30:\"Mnogu\",31:\"N\",32:\"NJ\",33:\"O\",34:\"P\",\n",
    "    35:\"Peperutka\",36:\"Pritisok\",37:\"Prst\",38:\"R\",39:\"Rob\",40:\"S\",41:\"Sever\",42:\"SH\",43:\"Sida\",44:\"Sin\",45:\"Svekja\",\n",
    "    46:\"T\",47:\"Telefon\",48:\"TojTaaToa\",49:\"U\",50:\"V\",51:\"Valkano\",52:\"Vilushka\",53:\"Z\",54:\"Zamenki\",55:\"ZH\",56:\"Zholtica\",57:\"Zoshto\"\n",
    "}"
   ]
  },
  {
   "cell_type": "code",
   "execution_count": 3,
   "metadata": {},
   "outputs": [],
   "source": [
    "model = load_model('ResNet_model2.h5')"
   ]
  },
  {
   "cell_type": "code",
   "execution_count": 4,
   "metadata": {},
   "outputs": [],
   "source": [
    "test = pd.read_csv(\"test.csv\")"
   ]
  },
  {
   "cell_type": "code",
   "execution_count": 5,
   "metadata": {},
   "outputs": [],
   "source": [
    "test_labels = test['target']"
   ]
  },
  {
   "cell_type": "code",
   "execution_count": 6,
   "metadata": {},
   "outputs": [],
   "source": [
    "test_paths = test['image_path']"
   ]
  },
  {
   "cell_type": "code",
   "execution_count": 7,
   "metadata": {},
   "outputs": [],
   "source": [
    "test_labels_new = np_utils.to_categorical(test_labels)"
   ]
  },
  {
   "cell_type": "code",
   "execution_count": null,
   "metadata": {},
   "outputs": [],
   "source": []
  },
  {
   "cell_type": "code",
   "execution_count": 8,
   "metadata": {},
   "outputs": [],
   "source": [
    "test_datagen = ImageDataGenerator()"
   ]
  },
  {
   "cell_type": "code",
   "execution_count": 9,
   "metadata": {},
   "outputs": [],
   "source": [
    "def hand_area(img):\n",
    "    hand = img[100:324,100:324]\n",
    "    hand = cv2.resize(hand, (224,224))\n",
    "    return hand"
   ]
  },
  {
   "cell_type": "code",
   "execution_count": null,
   "metadata": {},
   "outputs": [],
   "source": []
  },
  {
   "cell_type": "code",
   "execution_count": null,
   "metadata": {},
   "outputs": [],
   "source": []
  },
  {
   "cell_type": "code",
   "execution_count": 10,
   "metadata": {},
   "outputs": [
    {
     "data": {
      "text/html": [
       "<div>\n",
       "<style scoped>\n",
       "    .dataframe tbody tr th:only-of-type {\n",
       "        vertical-align: middle;\n",
       "    }\n",
       "\n",
       "    .dataframe tbody tr th {\n",
       "        vertical-align: top;\n",
       "    }\n",
       "\n",
       "    .dataframe thead th {\n",
       "        text-align: right;\n",
       "    }\n",
       "</style>\n",
       "<table border=\"1\" class=\"dataframe\">\n",
       "  <thead>\n",
       "    <tr style=\"text-align: right;\">\n",
       "      <th></th>\n",
       "      <th>image_path</th>\n",
       "      <th>target</th>\n",
       "    </tr>\n",
       "  </thead>\n",
       "  <tbody>\n",
       "    <tr>\n",
       "      <th>0</th>\n",
       "      <td>C:\\Users\\Tiana\\Desktop\\MacedonianSignLanguage\\...</td>\n",
       "      <td>28.0</td>\n",
       "    </tr>\n",
       "    <tr>\n",
       "      <th>1</th>\n",
       "      <td>C:\\Users\\Tiana\\Desktop\\MacedonianSignLanguage\\...</td>\n",
       "      <td>54.0</td>\n",
       "    </tr>\n",
       "    <tr>\n",
       "      <th>2</th>\n",
       "      <td>C:\\Users\\Tiana\\Desktop\\MacedonianSignLanguage\\...</td>\n",
       "      <td>57.0</td>\n",
       "    </tr>\n",
       "    <tr>\n",
       "      <th>3</th>\n",
       "      <td>C:\\Users\\Tiana\\Desktop\\MacedonianSignLanguage\\...</td>\n",
       "      <td>47.0</td>\n",
       "    </tr>\n",
       "    <tr>\n",
       "      <th>4</th>\n",
       "      <td>C:\\Users\\Tiana\\Desktop\\MacedonianSignLanguage\\...</td>\n",
       "      <td>21.0</td>\n",
       "    </tr>\n",
       "    <tr>\n",
       "      <th>...</th>\n",
       "      <td>...</td>\n",
       "      <td>...</td>\n",
       "    </tr>\n",
       "    <tr>\n",
       "      <th>59</th>\n",
       "      <td>C:\\Users\\Tiana\\Desktop\\MacedonianSignLanguage\\...</td>\n",
       "      <td>46.0</td>\n",
       "    </tr>\n",
       "    <tr>\n",
       "      <th>60</th>\n",
       "      <td>C:\\Users\\Tiana\\Desktop\\MacedonianSignLanguage\\...</td>\n",
       "      <td>3.0</td>\n",
       "    </tr>\n",
       "    <tr>\n",
       "      <th>61</th>\n",
       "      <td>C:\\Users\\Tiana\\Desktop\\MacedonianSignLanguage\\...</td>\n",
       "      <td>48.0</td>\n",
       "    </tr>\n",
       "    <tr>\n",
       "      <th>62</th>\n",
       "      <td>C:\\Users\\Tiana\\Desktop\\MacedonianSignLanguage\\...</td>\n",
       "      <td>5.0</td>\n",
       "    </tr>\n",
       "    <tr>\n",
       "      <th>63</th>\n",
       "      <td>C:\\Users\\Tiana\\Desktop\\MacedonianSignLanguage\\...</td>\n",
       "      <td>9.0</td>\n",
       "    </tr>\n",
       "  </tbody>\n",
       "</table>\n",
       "<p>64 rows × 2 columns</p>\n",
       "</div>"
      ],
      "text/plain": [
       "                                           image_path  target\n",
       "0   C:\\Users\\Tiana\\Desktop\\MacedonianSignLanguage\\...    28.0\n",
       "1   C:\\Users\\Tiana\\Desktop\\MacedonianSignLanguage\\...    54.0\n",
       "2   C:\\Users\\Tiana\\Desktop\\MacedonianSignLanguage\\...    57.0\n",
       "3   C:\\Users\\Tiana\\Desktop\\MacedonianSignLanguage\\...    47.0\n",
       "4   C:\\Users\\Tiana\\Desktop\\MacedonianSignLanguage\\...    21.0\n",
       "..                                                ...     ...\n",
       "59  C:\\Users\\Tiana\\Desktop\\MacedonianSignLanguage\\...    46.0\n",
       "60  C:\\Users\\Tiana\\Desktop\\MacedonianSignLanguage\\...     3.0\n",
       "61  C:\\Users\\Tiana\\Desktop\\MacedonianSignLanguage\\...    48.0\n",
       "62  C:\\Users\\Tiana\\Desktop\\MacedonianSignLanguage\\...     5.0\n",
       "63  C:\\Users\\Tiana\\Desktop\\MacedonianSignLanguage\\...     9.0\n",
       "\n",
       "[64 rows x 2 columns]"
      ]
     },
     "execution_count": 10,
     "metadata": {},
     "output_type": "execute_result"
    }
   ],
   "source": [
    "test"
   ]
  },
  {
   "cell_type": "code",
   "execution_count": null,
   "metadata": {},
   "outputs": [],
   "source": []
  },
  {
   "cell_type": "code",
   "execution_count": 11,
   "metadata": {},
   "outputs": [],
   "source": [
    "cap = cv2.VideoCapture(0)\n",
    "if not cap.isOpened():\n",
    "    print(\"Error: Video capture not opened\")\n",
    "    exit()"
   ]
  },
  {
   "cell_type": "code",
   "execution_count": 12,
   "metadata": {},
   "outputs": [
    {
     "name": "stdout",
     "output_type": "stream",
     "text": [
      "Found 65 validated image filenames belonging to 59 classes.\n"
     ]
    },
    {
     "name": "stderr",
     "output_type": "stream",
     "text": [
      "C:\\Users\\Tiana\\AppData\\Local\\Temp\\ipykernel_2052\\3206481694.py:13: FutureWarning: The frame.append method is deprecated and will be removed from pandas in a future version. Use pandas.concat instead.\n",
      "  test = test.append(new_row,ignore_index=True)\n"
     ]
    },
    {
     "name": "stdout",
     "output_type": "stream",
     "text": [
      "1/1 [==============================] - 3s 3s/step\n",
      "Predicted class is P with index 34.0\n",
      "Found 66 validated image filenames belonging to 59 classes.\n"
     ]
    },
    {
     "name": "stderr",
     "output_type": "stream",
     "text": [
      "C:\\Users\\Tiana\\AppData\\Local\\Temp\\ipykernel_2052\\3206481694.py:13: FutureWarning: The frame.append method is deprecated and will be removed from pandas in a future version. Use pandas.concat instead.\n",
      "  test = test.append(new_row,ignore_index=True)\n"
     ]
    },
    {
     "name": "stdout",
     "output_type": "stream",
     "text": [
      "1/1 [==============================] - 0s 425ms/step\n",
      "Predicted class is C with index 5.0\n",
      "Found 67 validated image filenames belonging to 59 classes.\n"
     ]
    },
    {
     "name": "stderr",
     "output_type": "stream",
     "text": [
      "C:\\Users\\Tiana\\AppData\\Local\\Temp\\ipykernel_2052\\3206481694.py:13: FutureWarning: The frame.append method is deprecated and will be removed from pandas in a future version. Use pandas.concat instead.\n",
      "  test = test.append(new_row,ignore_index=True)\n"
     ]
    },
    {
     "name": "stdout",
     "output_type": "stream",
     "text": [
      "1/1 [==============================] - 0s 434ms/step\n",
      "Predicted class is Dopir with index 12.0\n",
      "Found 68 validated image filenames belonging to 59 classes.\n"
     ]
    },
    {
     "name": "stderr",
     "output_type": "stream",
     "text": [
      "C:\\Users\\Tiana\\AppData\\Local\\Temp\\ipykernel_2052\\3206481694.py:13: FutureWarning: The frame.append method is deprecated and will be removed from pandas in a future version. Use pandas.concat instead.\n",
      "  test = test.append(new_row,ignore_index=True)\n"
     ]
    },
    {
     "name": "stdout",
     "output_type": "stream",
     "text": [
      "1/1 [==============================] - 0s 440ms/step\n",
      "Predicted class is I with index 19.0\n",
      "Found 69 validated image filenames belonging to 59 classes.\n"
     ]
    },
    {
     "name": "stderr",
     "output_type": "stream",
     "text": [
      "C:\\Users\\Tiana\\AppData\\Local\\Temp\\ipykernel_2052\\3206481694.py:13: FutureWarning: The frame.append method is deprecated and will be removed from pandas in a future version. Use pandas.concat instead.\n",
      "  test = test.append(new_row,ignore_index=True)\n"
     ]
    },
    {
     "name": "stdout",
     "output_type": "stream",
     "text": [
      "1/1 [==============================] - 0s 497ms/step\n",
      "Predicted class is Kukja with index 26.0\n",
      "Found 70 validated image filenames belonging to 59 classes.\n"
     ]
    },
    {
     "name": "stderr",
     "output_type": "stream",
     "text": [
      "C:\\Users\\Tiana\\AppData\\Local\\Temp\\ipykernel_2052\\3206481694.py:13: FutureWarning: The frame.append method is deprecated and will be removed from pandas in a future version. Use pandas.concat instead.\n",
      "  test = test.append(new_row,ignore_index=True)\n"
     ]
    },
    {
     "name": "stdout",
     "output_type": "stream",
     "text": [
      "1/1 [==============================] - 0s 461ms/step\n",
      "Predicted class is O with index 33.0\n"
     ]
    }
   ],
   "source": [
    "while True:\n",
    "    ret, frame = cap.read()\n",
    "    k = cv2.waitKey(1)\n",
    "    predicted_class=\"\"\n",
    "    if ret:\n",
    "        # Preprocess the frame for the model\n",
    "        cv2.rectangle(frame, (100,100), (324,324), 2)\n",
    "        if  k%256 == 32:\n",
    "            hand = hand_area(frame)\n",
    "            cv2.imwrite(\"C:\\\\Users\\\\Tiana\\\\Desktop\\\\MacedonianSignLanguage\\\\input\\\\input\\\\test\\\\frame.jpg\",hand)\n",
    "            new_row = {'image_path':'C:\\\\Users\\\\Tiana\\\\Desktop\\\\MacedonianSignLanguage\\\\input\\\\input\\\\test\\\\frame.jpg',\n",
    "                        'target':\"\"}\n",
    "            test = test.append(new_row,ignore_index=True)\n",
    "            test['target'] = test['target'].apply(str)\n",
    "                   \n",
    "            test_generator = test_datagen.flow_from_dataframe(dataframe=test,x_col='image_path',y_col='target',\n",
    "                                target_size=(224, 224),batch_size=64,class_mode='categorical',shuffle=False)\n",
    "            files=test_generator.filenames\n",
    "            class_dict=test_generator.class_indices \n",
    "            rev_dict={}\n",
    "            for key, value in class_dict.items():\n",
    "                rev_dict[value]=key\n",
    "            # image = hand\n",
    "            # image = cv2.resize(image, (224, 224))\n",
    "            image = Image.open(test_generator.filenames[-1]).resize((224,224))\n",
    "            image = np.array(image)\n",
    "            image = image.reshape(1,224,224,3)\n",
    "            predictions = model.predict(image)\n",
    "            for i, p in enumerate(predictions):\n",
    "                index=np.argmax(p)\n",
    "                class_=rev_dict[index]\n",
    "                num = int(float(class_))\n",
    "                predicted_class = labels[num]\n",
    "                print('Predicted class is',labels[num],'with index',class_)\n",
    "            \n",
    "        # image = np.array(image)\n",
    "        # prediction = model.predict(image.reshape(1,224,224,3))\n",
    "        # gesture = np.argmax(prediction)\n",
    "        # predicted_class = labels[gesture]\n",
    "        # Display the prediction on the frame\n",
    "        cv2.putText(frame, \"Predicted class: \" + str(predicted_class), (10, 50),\n",
    "                    cv2.FONT_HERSHEY_SIMPLEX, 1, (0, 255, 0), 2, cv2.LINE_AA)\n",
    "        \n",
    "        # Display the frame\n",
    "        cv2.imshow(\"Sign Language Recognition\", frame)\n",
    "    else:\n",
    "        # If the frame is not captured, print an error message\n",
    "        print(\"Error: Frame not captured\")\n",
    "        \n",
    "    # Break the loop if the 'q' key is pressed\n",
    "    if cv2.waitKey(1) & 0xFF == ord('q'):\n",
    "        break\n",
    "\n",
    "cap.release()\n",
    "cv2.destroyAllWindows()"
   ]
  },
  {
   "cell_type": "code",
   "execution_count": null,
   "metadata": {},
   "outputs": [],
   "source": []
  }
 ],
 "metadata": {
  "kernelspec": {
   "display_name": "Python 3 (ipykernel)",
   "language": "python",
   "name": "python3"
  },
  "language_info": {
   "codemirror_mode": {
    "name": "ipython",
    "version": 3
   },
   "file_extension": ".py",
   "mimetype": "text/x-python",
   "name": "python",
   "nbconvert_exporter": "python",
   "pygments_lexer": "ipython3",
   "version": "3.9.13"
  },
  "vscode": {
   "interpreter": {
    "hash": "30a6e74af0fa266845fe6dc278ad8868af254b1f44a40f17b17c9a28151e2db1"
   }
  }
 },
 "nbformat": 4,
 "nbformat_minor": 2
}
